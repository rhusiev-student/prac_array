{
 "cells": [
  {
   "cell_type": "code",
   "execution_count": 1,
   "metadata": {},
   "outputs": [],
   "source": [
    "# from arrays import Array, Array2D\n",
    "import array\n",
    "import numpy as np\n",
    "import sys\n",
    "\n",
    "from custom_array import Array, Array2D"
   ]
  },
  {
   "attachments": {},
   "cell_type": "markdown",
   "metadata": {},
   "source": [
    "# Array "
   ]
  },
  {
   "cell_type": "code",
   "execution_count": 3,
   "metadata": {},
   "outputs": [
    {
     "data": {
      "text/plain": [
       "[None, None, None, None, None, None, None, None, None, None]"
      ]
     },
     "execution_count": 3,
     "metadata": {},
     "output_type": "execute_result"
    }
   ],
   "source": [
    "value_list = Array(10)\n",
    "value_list"
   ]
  },
  {
   "cell_type": "code",
   "execution_count": 4,
   "metadata": {},
   "outputs": [
    {
     "ename": "TypeError",
     "evalue": "iter() returned non-iterator of type 'ArrayIterator'",
     "output_type": "error",
     "traceback": [
      "\u001b[1;31m---------------------------------------------------------------------------\u001b[0m",
      "\u001b[1;31mTypeError\u001b[0m                                 Traceback (most recent call last)",
      "\u001b[1;32mc:\\Users\\Mykola\\Desktop\\prac_array\\array_check (1).ipynb Cell 4\u001b[0m in \u001b[0;36m1\n\u001b[1;32m----> <a href='vscode-notebook-cell:/c%3A/Users/Mykola/Desktop/prac_array/array_check%20%281%29.ipynb#W3sZmlsZQ%3D%3D?line=0'>1</a>\u001b[0m \u001b[39mfor\u001b[39;00m val \u001b[39min\u001b[39;00m value_list:\n\u001b[0;32m      <a href='vscode-notebook-cell:/c%3A/Users/Mykola/Desktop/prac_array/array_check%20%281%29.ipynb#W3sZmlsZQ%3D%3D?line=1'>2</a>\u001b[0m     \u001b[39mprint\u001b[39m(val, end \u001b[39m=\u001b[39m \u001b[39m\"\u001b[39m\u001b[39m, \u001b[39m\u001b[39m\"\u001b[39m)\n",
      "\u001b[1;31mTypeError\u001b[0m: iter() returned non-iterator of type 'ArrayIterator'"
     ]
    }
   ],
   "source": [
    "for val in value_list:\n",
    "    print(val, end = \", \")"
   ]
  },
  {
   "cell_type": "code",
   "execution_count": 3,
   "metadata": {},
   "outputs": [
    {
     "data": {
      "text/plain": [
       "10"
      ]
     },
     "execution_count": 3,
     "metadata": {},
     "output_type": "execute_result"
    }
   ],
   "source": [
    "len(value_list)"
   ]
  },
  {
   "cell_type": "code",
   "execution_count": 4,
   "metadata": {},
   "outputs": [
    {
     "ename": "AssertionError",
     "evalue": "Array size must be >0",
     "output_type": "error",
     "traceback": [
      "\u001b[0;31m---------------------------------------------------------------------------\u001b[0m",
      "\u001b[0;31mAssertionError\u001b[0m                            Traceback (most recent call last)",
      "Cell \u001b[0;32mIn[4], line 1\u001b[0m\n\u001b[0;32m----> 1\u001b[0m value_list_2 \u001b[39m=\u001b[39m Array(\u001b[39m-\u001b[39;49m\u001b[39m2\u001b[39;49m)\n",
      "File \u001b[0;32m~/Library/Mobile Documents/com~apple~CloudDocs/Documents_New/Python Course/Lecture 8/arrays.py:5\u001b[0m, in \u001b[0;36mArray.__init__\u001b[0;34m(self, size)\u001b[0m\n\u001b[1;32m      4\u001b[0m \u001b[39mdef\u001b[39;00m \u001b[39m__init__\u001b[39m(\u001b[39mself\u001b[39m, size):\n\u001b[0;32m----> 5\u001b[0m     \u001b[39massert\u001b[39;00m size \u001b[39m>\u001b[39m \u001b[39m0\u001b[39m, \u001b[39m\"\u001b[39m\u001b[39mArray size must be >0\u001b[39m\u001b[39m\"\u001b[39m\n\u001b[1;32m      6\u001b[0m     \u001b[39mself\u001b[39m\u001b[39m.\u001b[39m_size \u001b[39m=\u001b[39m size\n\u001b[1;32m      7\u001b[0m     PyArrayType \u001b[39m=\u001b[39m ctypes\u001b[39m.\u001b[39mpy_object \u001b[39m*\u001b[39m size\n",
      "\u001b[0;31mAssertionError\u001b[0m: Array size must be >0"
     ]
    }
   ],
   "source": [
    "value_list_2 = Array(-2)"
   ]
  },
  {
   "cell_type": "code",
   "execution_count": 5,
   "metadata": {},
   "outputs": [
    {
     "name": "stdout",
     "output_type": "stream",
     "text": [
      "0, 1, 2, 3, 4, 5, 6, 7, 8, 9, "
     ]
    }
   ],
   "source": [
    "for i in range(len(value_list)) :\n",
    "    value_list[i] = i\n",
    "for val in value_list:\n",
    "    print(val, end = \", \")\n"
   ]
  },
  {
   "cell_type": "code",
   "execution_count": 6,
   "metadata": {},
   "outputs": [
    {
     "ename": "AssertionError",
     "evalue": "Array subscript out of range",
     "output_type": "error",
     "traceback": [
      "\u001b[0;31m---------------------------------------------------------------------------\u001b[0m",
      "\u001b[0;31mAssertionError\u001b[0m                            Traceback (most recent call last)",
      "Cell \u001b[0;32mIn[6], line 1\u001b[0m\n\u001b[0;32m----> 1\u001b[0m \u001b[39mprint\u001b[39m(value_list[\u001b[39m20\u001b[39;49m])\n",
      "File \u001b[0;32m~/Library/Mobile Documents/com~apple~CloudDocs/Documents_New/Python Course/Lecture 8/arrays.py:16\u001b[0m, in \u001b[0;36mArray.__getitem__\u001b[0;34m(self, index)\u001b[0m\n\u001b[1;32m     15\u001b[0m \u001b[39mdef\u001b[39;00m \u001b[39m__getitem__\u001b[39m(\u001b[39mself\u001b[39m, index):\n\u001b[0;32m---> 16\u001b[0m     \u001b[39massert\u001b[39;00m index\u001b[39m>\u001b[39m\u001b[39m=\u001b[39m\u001b[39m0\u001b[39m \u001b[39mand\u001b[39;00m index\u001b[39m<\u001b[39m\u001b[39mlen\u001b[39m(\u001b[39mself\u001b[39m), \u001b[39m'\u001b[39m\u001b[39mArray subscript out of range\u001b[39m\u001b[39m'\u001b[39m \n\u001b[1;32m     17\u001b[0m     \u001b[39mreturn\u001b[39;00m \u001b[39mself\u001b[39m\u001b[39m.\u001b[39m_elements[ index ]\n",
      "\u001b[0;31mAssertionError\u001b[0m: Array subscript out of range"
     ]
    }
   ],
   "source": [
    "print(value_list[20])"
   ]
  },
  {
   "cell_type": "code",
   "execution_count": 7,
   "metadata": {},
   "outputs": [
    {
     "ename": "AssertionError",
     "evalue": "Array subscript out of range",
     "output_type": "error",
     "traceback": [
      "\u001b[0;31m---------------------------------------------------------------------------\u001b[0m",
      "\u001b[0;31mAssertionError\u001b[0m                            Traceback (most recent call last)",
      "Cell \u001b[0;32mIn[7], line 1\u001b[0m\n\u001b[0;32m----> 1\u001b[0m \u001b[39mprint\u001b[39m(value_list[\u001b[39m-\u001b[39;49m\u001b[39m2\u001b[39;49m])\n",
      "File \u001b[0;32m~/Library/Mobile Documents/com~apple~CloudDocs/Documents_New/Python Course/Lecture 8/arrays.py:16\u001b[0m, in \u001b[0;36mArray.__getitem__\u001b[0;34m(self, index)\u001b[0m\n\u001b[1;32m     15\u001b[0m \u001b[39mdef\u001b[39;00m \u001b[39m__getitem__\u001b[39m(\u001b[39mself\u001b[39m, index):\n\u001b[0;32m---> 16\u001b[0m     \u001b[39massert\u001b[39;00m index\u001b[39m>\u001b[39m\u001b[39m=\u001b[39m\u001b[39m0\u001b[39m \u001b[39mand\u001b[39;00m index\u001b[39m<\u001b[39m\u001b[39mlen\u001b[39m(\u001b[39mself\u001b[39m), \u001b[39m'\u001b[39m\u001b[39mArray subscript out of range\u001b[39m\u001b[39m'\u001b[39m \n\u001b[1;32m     17\u001b[0m     \u001b[39mreturn\u001b[39;00m \u001b[39mself\u001b[39m\u001b[39m.\u001b[39m_elements[ index ]\n",
      "\u001b[0;31mAssertionError\u001b[0m: Array subscript out of range"
     ]
    }
   ],
   "source": [
    "print(value_list[-2])"
   ]
  },
  {
   "cell_type": "code",
   "execution_count": 8,
   "metadata": {},
   "outputs": [
    {
     "name": "stdout",
     "output_type": "stream",
     "text": [
      "0 1\n"
     ]
    }
   ],
   "source": [
    "it = iter(value_list)\n",
    "print(next(it), next(it))"
   ]
  },
  {
   "attachments": {},
   "cell_type": "markdown",
   "metadata": {},
   "source": [
    "## для допитливих"
   ]
  },
  {
   "cell_type": "code",
   "execution_count": 17,
   "metadata": {},
   "outputs": [
    {
     "name": "stdout",
     "output_type": "stream",
     "text": [
      "size of array =  56\n",
      "size of compact array =  90\n",
      "size of array_list =  136\n",
      "size of array_range =  48\n",
      "size of array_np =  192\n"
     ]
    }
   ],
   "source": [
    "print('size of array = ', sys.getsizeof(value_list))\n",
    "compact_array = array.array('b', [0,1,2,3,4,5,6,7,8,9])\n",
    "print('size of compact array = ', sys.getsizeof(compact_array))\n",
    "array_list = list(range(10))\n",
    "print('size of array_list = ', sys.getsizeof(array_list))\n",
    "array_range = range(10)\n",
    "print('size of array_range = ', sys.getsizeof(array_range))\n",
    "array_np = np.arange(10)\n",
    "print('size of array_np = ', sys.getsizeof(array_np))"
   ]
  },
  {
   "attachments": {},
   "cell_type": "markdown",
   "metadata": {},
   "source": [
    "## Array 2D"
   ]
  },
  {
   "cell_type": "code",
   "execution_count": 24,
   "metadata": {},
   "outputs": [
    {
     "data": {
      "text/plain": [
       "<arrays.Array2D at 0x104af4190>"
      ]
     },
     "execution_count": 24,
     "metadata": {},
     "output_type": "execute_result"
    }
   ],
   "source": [
    "value_list_2d = Array2D(3, 5)\n",
    "value_list_2d"
   ]
  },
  {
   "cell_type": "code",
   "execution_count": 29,
   "metadata": {},
   "outputs": [
    {
     "name": "stdout",
     "output_type": "stream",
     "text": [
      "0 1 2 3 4 \n",
      "\n",
      "1 2 3 4 5 \n",
      "\n",
      "2 3 4 5 6 \n",
      "\n"
     ]
    }
   ],
   "source": [
    "for i in range(value_list_2d.num_rows()):\n",
    "    for j in range(value_list_2d.num_cols()):\n",
    "        value_list_2d[i,j] = i+j\n",
    "\n",
    "for i in range(value_list_2d.num_rows()):\n",
    "    for j in range(value_list_2d.num_cols()):\n",
    "        print(value_list_2d[i,j], end = ' ')\n",
    "    print('\\n')\n"
   ]
  },
  {
   "cell_type": "markdown",
   "metadata": {},
   "source": []
  },
  {
   "cell_type": "code",
   "execution_count": 31,
   "metadata": {},
   "outputs": [
    {
     "ename": "AssertionError",
     "evalue": "Array subscript out of range.",
     "output_type": "error",
     "traceback": [
      "\u001b[0;31m---------------------------------------------------------------------------\u001b[0m",
      "\u001b[0;31mAssertionError\u001b[0m                            Traceback (most recent call last)",
      "Cell \u001b[0;32mIn[31], line 1\u001b[0m\n\u001b[0;32m----> 1\u001b[0m \u001b[39mprint\u001b[39m(value_list_2d[\u001b[39m4\u001b[39;49m,\u001b[39m2\u001b[39;49m])\n",
      "File \u001b[0;32m~/Library/Mobile Documents/com~apple~CloudDocs/Documents_New/Python Course/Lecture 8/arrays.py:83\u001b[0m, in \u001b[0;36mArray2D.__getitem__\u001b[0;34m(self, index_tuple)\u001b[0m\n\u001b[1;32m     80\u001b[0m row \u001b[39m=\u001b[39m index_tuple[\u001b[39m0\u001b[39m]\n\u001b[1;32m     81\u001b[0m col \u001b[39m=\u001b[39m index_tuple[\u001b[39m1\u001b[39m]\n\u001b[1;32m     82\u001b[0m \u001b[39massert\u001b[39;00m row \u001b[39m>\u001b[39m\u001b[39m=\u001b[39m \u001b[39m0\u001b[39m \u001b[39mand\u001b[39;00m row \u001b[39m<\u001b[39m \u001b[39mself\u001b[39m\u001b[39m.\u001b[39mnum_rows() \\\n\u001b[0;32m---> 83\u001b[0m     \u001b[39mand\u001b[39;00m col \u001b[39m>\u001b[39m\u001b[39m=\u001b[39m \u001b[39m0\u001b[39m \u001b[39mand\u001b[39;00m col \u001b[39m<\u001b[39m \u001b[39mself\u001b[39m\u001b[39m.\u001b[39mnum_cols(),\\\n\u001b[1;32m     84\u001b[0m         \u001b[39m\"\u001b[39m\u001b[39mArray subscript out of range.\u001b[39m\u001b[39m\"\u001b[39m\n\u001b[1;32m     85\u001b[0m array_1d \u001b[39m=\u001b[39m \u001b[39mself\u001b[39m\u001b[39m.\u001b[39mrows[row]\n\u001b[1;32m     86\u001b[0m \u001b[39mreturn\u001b[39;00m array_1d [col]\n",
      "\u001b[0;31mAssertionError\u001b[0m: Array subscript out of range."
     ]
    }
   ],
   "source": [
    "print(value_list_2d[4,2])"
   ]
  },
  {
   "cell_type": "code",
   "execution_count": 32,
   "metadata": {},
   "outputs": [
    {
     "ename": "AssertionError",
     "evalue": "Invalid number of array subscripts.",
     "output_type": "error",
     "traceback": [
      "\u001b[0;31m---------------------------------------------------------------------------\u001b[0m",
      "\u001b[0;31mAssertionError\u001b[0m                            Traceback (most recent call last)",
      "Cell \u001b[0;32mIn[32], line 1\u001b[0m\n\u001b[0;32m----> 1\u001b[0m \u001b[39mprint\u001b[39m(value_list_2d[\u001b[39m4\u001b[39;49m,\u001b[39m2\u001b[39;49m,\u001b[39m3\u001b[39;49m])\n",
      "File \u001b[0;32m~/Library/Mobile Documents/com~apple~CloudDocs/Documents_New/Python Course/Lecture 8/arrays.py:79\u001b[0m, in \u001b[0;36mArray2D.__getitem__\u001b[0;34m(self, index_tuple)\u001b[0m\n\u001b[1;32m     78\u001b[0m \u001b[39mdef\u001b[39;00m \u001b[39m__getitem__\u001b[39m( \u001b[39mself\u001b[39m, index_tuple ):\n\u001b[0;32m---> 79\u001b[0m     \u001b[39massert\u001b[39;00m \u001b[39mlen\u001b[39m(index_tuple) \u001b[39m==\u001b[39m \u001b[39m2\u001b[39m, \u001b[39m\"\u001b[39m\u001b[39mInvalid number of array subscripts.\u001b[39m\u001b[39m\"\u001b[39m\n\u001b[1;32m     80\u001b[0m     row \u001b[39m=\u001b[39m index_tuple[\u001b[39m0\u001b[39m]\n\u001b[1;32m     81\u001b[0m     col \u001b[39m=\u001b[39m index_tuple[\u001b[39m1\u001b[39m]\n",
      "\u001b[0;31mAssertionError\u001b[0m: Invalid number of array subscripts."
     ]
    }
   ],
   "source": [
    "print(value_list_2d[4,2,3])"
   ]
  }
 ],
 "metadata": {
  "kernelspec": {
   "display_name": "Python 3",
   "language": "python",
   "name": "python3"
  },
  "language_info": {
   "codemirror_mode": {
    "name": "ipython",
    "version": 3
   },
   "file_extension": ".py",
   "mimetype": "text/x-python",
   "name": "python",
   "nbconvert_exporter": "python",
   "pygments_lexer": "ipython3",
   "version": "3.10.8"
  },
  "orig_nbformat": 4
 },
 "nbformat": 4,
 "nbformat_minor": 2
}
